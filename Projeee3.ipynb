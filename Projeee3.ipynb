{
  "nbformat": 4,
  "nbformat_minor": 0,
  "metadata": {
    "colab": {
      "name": "Projeee3.ipynb",
      "provenance": [],
      "authorship_tag": "ABX9TyNjPS9ZyELdNGyu29+9iuJh",
      "include_colab_link": true
    },
    "kernelspec": {
      "name": "python3",
      "display_name": "Python 3"
    },
    "language_info": {
      "name": "python"
    }
  },
  "cells": [
    {
      "cell_type": "markdown",
      "metadata": {
        "id": "view-in-github",
        "colab_type": "text"
      },
      "source": [
        "<a href=\"https://colab.research.google.com/github/Onurbeyy76/HU-BBY162-2022/blob/main/Projeee3.ipynb\" target=\"_parent\"><img src=\"https://colab.research.google.com/assets/colab-badge.svg\" alt=\"Open In Colab\"/></a>"
      ]
    },
    {
      "cell_type": "code",
      "execution_count": null,
      "metadata": {
        "id": "wJchuJNcaa1U"
      },
      "outputs": [],
      "source": [
        "print(\"Bu testte toplam 5 soru bulunmaktadır.\")\n",
        "print(\"Her bir soru 20 puan değerindedir.\")\n",
        "print(\"Cevaplarınızı d veya y olarak giriniz.\")\n",
        "print(\"BAŞARILAR DİLERİM!\")\n",
        "\n",
        "puan = 0\n",
        "\n",
        "sorular = [\"Bjk şampiyon, eğitimci olmak, yazılımcı,alfabe 29 harf, aşka inanmıyorum \"]\n",
        "cevaplar = [\"d\", \"y\", \"d\", \"y\", \"d\"]\n",
        "\n",
        "def testCalistir():\n",
        "  soruNo = 0\n",
        "    cevapNo = 0\n",
        "      puan = 0\n",
        "        for soru in sorular:\n",
        "            soruNo +=1\n",
        "                print(\"Soru \"+str(soruNo)+\": \" + soru)\n",
        "                    cevap = input(\"d/y\")\n",
        "                        if cevap == cevaplar[cevapNo]:\n",
        "                              print(\"bildiniz!\")\n",
        "                                    puan +=1\n",
        "                                        else:\n",
        "                                              print(\"bilemediniz!\")\n",
        "                                                  cevapNo +=1\n",
        "                                                    toplamPuan = int((puan/soruNo)*100)\n",
        "                                                      print(\"Toplam puanınız: \"+str(toplamPuan))\n",
        "                                                        if toplamPuan >= 60:\n",
        "                                                            print(\"Tebrikler, testi geçtiniz..!\")\n",
        "                                                              else:\n",
        "                                                                  print(\"Testi geçemediniz..!\")\n",
        "                                                                      tekrar = input(\"Testi tekrar almak istiyor musunuz? [e/h]: \")\n",
        "                                                                          if tekrar == \"e\":\n",
        "                                                                                testCalistir()\n",
        "                                                                                    else:\n",
        "                                                                                          print(\"Test uygulaması sonlandırıldı!!!\")\n",
        "\n",
        "                                                                                          testCalistir()"
      ]
    }
  ]
}