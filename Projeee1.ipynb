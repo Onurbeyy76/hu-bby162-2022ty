{
  "nbformat": 4,
  "nbformat_minor": 0,
  "metadata": {
    "colab": {
      "name": "Projeee1.ipynb",
      "provenance": [],
      "authorship_tag": "ABX9TyPif43cNNb4AhwiOta/H1w0",
      "include_colab_link": true
    },
    "kernelspec": {
      "name": "python3",
      "display_name": "Python 3"
    },
    "language_info": {
      "name": "python"
    }
  },
  "cells": [
    {
      "cell_type": "markdown",
      "metadata": {
        "id": "view-in-github",
        "colab_type": "text"
      },
      "source": [
        "<a href=\"https://colab.research.google.com/github/Onurbeyy76/HU-BBY162-2022/blob/main/Projeee1.ipynb\" target=\"_parent\"><img src=\"https://colab.research.google.com/assets/colab-badge.svg\" alt=\"Open In Colab\"/></a>"
      ]
    },
    {
      "cell_type": "code",
      "execution_count": null,
      "metadata": {
        "id": "J0naVhT1bJwm"
      },
      "outputs": [],
      "source": [
        "print(\"Tanımları verilen kelimeleri tahmin ediniz! Unutmayın 2 tahmin hakkınız var. Başarılar :)))\")\n",
        "liste = [\"başarı\" , \"bilgi\", \"veri\" , \"belge\"]\n",
        "can = 2 \n",
        "puan = 0\n",
        "while can > 0:\n",
        "  print(\"Kelime tanım: üstesinden gelinen, başarılan iş.\")\n",
        "    tahmin = input(\" Tahmininizi giriniz! \")\n",
        "      if tahmin in liste:\n",
        "         puan +=5\n",
        "            print(\"Doğru cevap :), puanınız: \" + str(puan))\n",
        "               break\n",
        "                 else:\n",
        "                     can = can - 1\n",
        "                         print(\"Yanlış cevap :(\")\n",
        "                             print(\"Toplam puanınız: \" +str(puan))\n",
        "                               if can == 0:\n",
        "                                   print(\"Kaybettiniz :( \")\n",
        "\n",
        "                                   while can > 0:\n",
        "                                     print(\"Yeni kelime tanım: insan aklının alabileceği gerçek, olgu ve ilkelerin tümüne verilen ad.\")\n",
        "                                       tahmin = input(\"Tahmininizi giriniz! \")\n",
        "                                         if tahmin in liste:\n",
        "                                             puan +=5\n",
        "                                                 print(\"Doğru cevap :), puanınız: \" + str(puan))\n",
        "                                                     break\n",
        "                                                       else:\n",
        "                                                           can = can - 1\n",
        "                                                               print(\"Yanlış cevap :(\")\n",
        "                                                                   print(\"Toplam puanınız: \" +str(puan))\n",
        "                                                                     if can == 0:\n",
        "                                                                         print(\"Kaybettiniz :( \")\n",
        "\n",
        "                                                                         while can > 0:\n",
        "                                                                           print(\"Yeni kelime tanım: bir araştırmada, bir tartışmada, bir akıl yürütmede sonuca ulaşabilmek için gereken ilk bilgi.\")\n",
        "                                                                             tahmin = input(\"Tahmininizi giriniz! \")\n",
        "                                                                               if tahmin in liste:\n",
        "                                                                                   puan +=5\n",
        "                                                                                       print(\"Doğru cevap :), puanınız: \" + str(puan))\n",
        "                                                                                           break\n",
        "                                                                                             else:\n",
        "                                                                                                 can = can - 1\n",
        "                                                                                                     print(\"Yanlış cevap :(\")\n",
        "                                                                                                         print(\"Toplam puanınız: \" +str(puan))\n",
        "                                                                                                           if can == 0:\n",
        "                                                                                                               print(\"Kaybettiniz :(\")\n",
        "\n",
        "                                                                                                               while can > 0:\n",
        "                                                                                                                 print(\"Yeni kelime tanım: bir gerçeği, bir olguyu gösteren, bir savın doğruluğuna apaçık inanç veren, tanıklık eden şey.\")\n",
        "                                                                                                                   tahmin = input(\"Tahmininizi giriniz! \")\n",
        "                                                                                                                     if tahmin in liste:\n",
        "                                                                                                                         puan +=5\n",
        "                                                                                                                             print(\"Doğru cevap :), toplam puanınız: \" + str(puan))\n",
        "                                                                                                                                 break\n",
        "                                                                                                                                   else:\n",
        "                                                                                                                                       can = can - 1\n",
        "                                                                                                                                           print(\"Yanlış cevap :(\")\n",
        "                                                                                                                                               print(\"Toplam puanınız: \" +str(puan))\n",
        "                                                                                                                                                 if can == 0:\n",
        "                                                                                                                                                     print(\"Kaybettiniz :(\")"
      ]
    }
  ]
}